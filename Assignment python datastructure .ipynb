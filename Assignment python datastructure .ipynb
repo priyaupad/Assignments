{
 "cells": [
  {
   "cell_type": "code",
   "execution_count": 1,
   "id": "8e1b85d6-6f30-4901-8233-ef89d7a94723",
   "metadata": {},
   "outputs": [
    {
     "name": "stdout",
     "output_type": "stream",
     "text": [
      "nothyp olleh\n"
     ]
    }
   ],
   "source": [
    "#1- Write a code to reverse a string.\n",
    "\n",
    "s= \"hello pyhton\"\n",
    "string=s[::-1]\n",
    "print(string)\n",
    "\n"
   ]
  },
  {
   "cell_type": "code",
   "execution_count": 11,
   "id": "de59ed95-f922-4668-b49c-11900336b832",
   "metadata": {},
   "outputs": [
    {
     "name": "stdout",
     "output_type": "stream",
     "text": [
      "the number of vowels in a string 3\n"
     ]
    }
   ],
   "source": [
    "#2- write a code to count the number of vowels in a string.\n",
    "\n",
    "S=\"Hello I am using python\"\n",
    "count=0\n",
    "vowels=[\"a\",\"e\",\"i\",\"o\",\"u\"]\n",
    "for i in range(len(s)):\n",
    "    if s[i] in vowels:\n",
    "        count +=1\n",
    "print(\"the number of vowels in a string\",count)   "
   ]
  },
  {
   "cell_type": "code",
   "execution_count": 18,
   "id": "2be71773-564c-4776-8494-be8454b705ce",
   "metadata": {},
   "outputs": [
    {
     "name": "stdout",
     "output_type": "stream",
     "text": [
      "given string is palindrome\n"
     ]
    }
   ],
   "source": [
    "#3-write a code to check if given string is a palindrome or not.\n",
    "\n",
    "s=\"eye\"\n",
    "if s==s[::-1]:\n",
    "    print(\"given string is palindrome\")"
   ]
  },
  {
   "cell_type": "code",
   "execution_count": 21,
   "id": "62abc8f4-7666-4d99-89ee-b24da2a2c6e9",
   "metadata": {},
   "outputs": [
    {
     "name": "stdout",
     "output_type": "stream",
     "text": [
      "are anagram\n"
     ]
    }
   ],
   "source": [
    "#4-write a code to check if given string is anagrams of each other.\n",
    "\n",
    "str1= \"Race\"\n",
    "str2= \"Care\"\n",
    "\n",
    "str1=str1.lower()\n",
    "str2=str2.lower()\n",
    "\n",
    "sorted_str1= sorted(str1)\n",
    "sorted_str2 =sorted(str2)\n",
    "\n",
    "if(sorted_str1==sorted_str2):\n",
    "    print(\"are anagram\")\n",
    "else:\n",
    "    print(\"are not  anagram\")"
   ]
  },
  {
   "cell_type": "code",
   "execution_count": 22,
   "id": "f91729b3-9c25-48ff-a583-2adb04d0f47d",
   "metadata": {},
   "outputs": [
    {
     "name": "stdout",
     "output_type": "stream",
     "text": [
      "1\n",
      "2\n",
      "1\n",
      "2\n",
      "1\n",
      "1\n",
      "1\n",
      "2\n",
      "1\n"
     ]
    }
   ],
   "source": [
    "#6 write a code to perfrom basic string compression using the count of reapted character.\n",
    "\n",
    "String=\"hello google\"\n",
    "list=[]\n",
    "for data in string:\n",
    "    if data not in list:\n",
    "        list.append(data)\n",
    "for char in list:\n",
    "    print(string.count(char))\n"
   ]
  },
  {
   "cell_type": "code",
   "execution_count": null,
   "id": "c07abb7d-7544-4770-9276-5a135f849d9e",
   "metadata": {},
   "outputs": [],
   "source": [
    "#7 write a code to determine if string  has all unique character.\n",
    "\n",
    "string=\"hello google\"\n",
    "\n",
    "unqiue_char[]\n",
    "\n",
    "for char in string:\n",
    "    if char in unqiue_char:\n",
    "        print(\"cha\")\n",
    "else:\n",
    "    print(unqiue_char.append(char)\n",
    "\n"
   ]
  },
  {
   "cell_type": "code",
   "execution_count": null,
   "id": "b352a092-338b-4706-bc7e-c7bef8cbd71d",
   "metadata": {},
   "outputs": [],
   "source": [
    "#8- write a code to given string to upper to lowercae.\n",
    "\n",
    "string= \"hello google\"\n",
    "print(string.upper())\n",
    "\n",
    "string1= \"HELLO GOOGLE\"\n",
    "print(string1.lower())\n"
   ]
  },
  {
   "cell_type": "code",
   "execution_count": 5,
   "id": "e4057650-42de-4ddd-9395-11b20956502b",
   "metadata": {},
   "outputs": [
    {
     "name": "stdout",
     "output_type": "stream",
     "text": [
      "12\n"
     ]
    }
   ],
   "source": [
    "#9 write a code to count the number of a string.\n",
    "\n",
    "string=\"hello google\"\n",
    "print(len(string))"
   ]
  },
  {
   "cell_type": "code",
   "execution_count": 6,
   "id": "9140dbaf-324d-49fe-b976-8d4814709bcb",
   "metadata": {},
   "outputs": [
    {
     "name": "stdout",
     "output_type": "stream",
     "text": [
      " the concat sting is\n",
      "hello pyhton\n"
     ]
    }
   ],
   "source": [
    "#10- write a code to conccatenate two strimgs without + operator.\n",
    "\n",
    "str1= \"hello\"\n",
    "str2= \"pyhton\"\n",
    "\n",
    "concat= \" \".join([str1,str2])\n",
    "print(\" the concat sting is\")\n",
    "print(concat)"
   ]
  },
  {
   "cell_type": "code",
   "execution_count": 9,
   "id": "ef8f9ee4-1bd9-46e5-83c7-fde9cbfc6a49",
   "metadata": {},
   "outputs": [
    {
     "name": "stdout",
     "output_type": "stream",
     "text": [
      "[]\n"
     ]
    }
   ],
   "source": [
    "#11 write a code to remove all occurence of a specifc element form a list.\n",
    "\n",
    "list=[\"apple\",\"mango\",\"lichi\",\"peach\"]\n",
    "list.clear()\n",
    "print(list)\n"
   ]
  },
  {
   "cell_type": "code",
   "execution_count": 12,
   "id": "a088f6b6-7ada-42d8-91bf-b2456b3abd16",
   "metadata": {},
   "outputs": [
    {
     "name": "stdout",
     "output_type": "stream",
     "text": [
      "the second largest number of list is: 40\n"
     ]
    }
   ],
   "source": [
    "#12-Implement a code to find the second largest number in a given list of integer.\n",
    "\n",
    "list=[20,10,30,40,50]\n",
    "list.sort()\n",
    "print(\"the second largest number of list is:\",list[-2])\n"
   ]
  },
  {
   "cell_type": "code",
   "execution_count": 13,
   "id": "8201ba30-cbc7-46f0-994e-c0d0f1c0bdfe",
   "metadata": {},
   "outputs": [
    {
     "name": "stdout",
     "output_type": "stream",
     "text": [
      "['mango', 'lichi', 'apple']\n"
     ]
    }
   ],
   "source": [
    "#13-write a code to reverse a list in place without using any built function \n",
    "\n",
    "list=[\"apple\",\"lichi\",\"mango\"]\n",
    "list.reverse()\n",
    "print(list)"
   ]
  },
  {
   "cell_type": "code",
   "execution_count": 16,
   "id": "2b3491d5-7b5a-4ce7-b35c-9ffab81c07b2",
   "metadata": {},
   "outputs": [
    {
     "name": "stdout",
     "output_type": "stream",
     "text": [
      "list is not sorted\n"
     ]
    }
   ],
   "source": [
    "list=[1,8,9,7,3,5]\n",
    "list.sort()\n",
    "if(list.sort()==list):\n",
    "    print(\"list is sorted\")\n",
    "else:\n",
    "    print(\"list is not sorted\")"
   ]
  },
  {
   "cell_type": "code",
   "execution_count": 20,
   "id": "268d4c4d-95c9-4c17-aa29-9cded102c2b4",
   "metadata": {},
   "outputs": [
    {
     "name": "stdout",
     "output_type": "stream",
     "text": [
      "[1, 2, 3, 4, [7, 8, 9]]\n"
     ]
    }
   ],
   "source": [
    "#17- write a code to merge two sorted listed into one single list.\n",
    "list1=[1,2,3,4]\n",
    "list2=[7,8,9]\n",
    "list1.append(list2)\n",
    "print(list1)"
   ]
  },
  {
   "cell_type": "code",
   "execution_count": 6,
   "id": "306ba70d-792f-4c03-a5b2-aaa5376b4936",
   "metadata": {},
   "outputs": [
    {
     "name": "stdout",
     "output_type": "stream",
     "text": [
      "[9, 10, 5, 4, 9]\n"
     ]
    }
   ],
   "source": [
    "#18- Implement a code to find the intersection of tow digits.\n",
    "\n",
    "list1 = [15, 9, 10, 56, 23, 78, 5, 4, 9]\n",
    "list2 = [9, 4, 5, 36, 47, 26, 10, 45, 87]\n",
    "intersection_list=[]\n",
    "\n",
    "for i in list1:\n",
    "    if (i in list2):\n",
    "        intersection_list.append(i)\n",
    "print(intersection_list)"
   ]
  },
  {
   "cell_type": "code",
   "execution_count": 8,
   "id": "24ec2aca-93ba-4bd0-8e29-084e957626ea",
   "metadata": {},
   "outputs": [
    {
     "name": "stdout",
     "output_type": "stream",
     "text": [
      "[15, 56, 23, 78]\n"
     ]
    }
   ],
   "source": [
    "#19- craete a code to find the the union of two list.\n",
    "\n",
    "list1 = [15, 9, 10, 56, 23, 78, 5, 4, 9]\n",
    "list2 = [9, 4, 5, 36, 47, 26, 10, 45, 87]\n",
    "union_list=[]\n",
    "\n",
    "for i in list1:\n",
    "    if (i not in list2):\n",
    "        union_list.append(i)\n",
    "print(union_list)"
   ]
  },
  {
   "cell_type": "code",
   "execution_count": 11,
   "id": "b253e15f-b23a-422c-a68e-bc2788c02b97",
   "metadata": {},
   "outputs": [
    {
     "name": "stdout",
     "output_type": "stream",
     "text": [
      "The tuple after concatenation is : (1, 2, 3, 4, 5, 6)\n"
     ]
    }
   ],
   "source": [
    "#21- write a code that takes two tuples as a input and retuns a new touple conttainng elemnts that are common to both tuple.\n",
    "\n",
    "tup1=(1,2,3)\n",
    "tup2=(4,5,6)\n",
    "res= tup1+tup2\n",
    "\n",
    "print(\"The tuple after concatenation is : \" + str(res))\n"
   ]
  },
  {
   "cell_type": "code",
   "execution_count": 12,
   "id": "54cfb38f-fca2-445e-bf38-208ab51b733b",
   "metadata": {},
   "outputs": [
    {
     "data": {
      "text/plain": [
       "{2, 4}"
      ]
     },
     "execution_count": 12,
     "metadata": {},
     "output_type": "execute_result"
    }
   ],
   "source": [
    "#22- write a code to that prompts the user to enter the two set of integer seprated by comma, print intersection of there two set\n",
    "\n",
    "s={1,2,3,4,5}\n",
    "s1={6,7,4,2,8,9}\n",
    "s.intersection(s1)"
   ]
  },
  {
   "cell_type": "code",
   "execution_count": 13,
   "id": "cafc6296-efff-40cf-b67f-834ab8e443ac",
   "metadata": {},
   "outputs": [
    {
     "data": {
      "text/plain": [
       "{1, 2, 3, 4, 5, 6, 7, 8, 9, 10}"
      ]
     },
     "execution_count": 13,
     "metadata": {},
     "output_type": "execute_result"
    }
   ],
   "source": [
    "#30- write a code that prompts uset to input two strings ,print the symmetric diference of these two set\n",
    "\n",
    "s={1,2,3,4,5}\n",
    "s1={6,7,8,9,10}\n",
    "s.symmetric_difference(s1)\n",
    "{1, 2, 3, 4, 5, 6, 7, 8, 9, 10}"
   ]
  },
  {
   "cell_type": "code",
   "execution_count": 19,
   "id": "e90f20fc-250d-4a7e-b0ce-3eb031d01fa8",
   "metadata": {},
   "outputs": [
    {
     "data": {
      "text/plain": [
       "{1, 2, 3, 4, 5}"
      ]
     },
     "execution_count": 19,
     "metadata": {},
     "output_type": "execute_result"
    }
   ],
   "source": [
    "#28 write a code that define two set of intger prinit the union ,intersection and differece\n",
    "\n",
    "s={1,2,3,4,5}\n",
    "s1={6,7,8,9,10}\n",
    "s.union(s1)\n",
    "\n",
    "\n",
    "\n",
    "s={1,2,3,4,5}\n",
    "s1={6,7,4,2,8,9}\n",
    "s.intersection(s1)\n",
    "\n",
    "\n",
    "s={1,2,3,4,5}\n",
    "s1={6,7,8,9,10}\n",
    "s.difference(s1)\n"
   ]
  },
  {
   "cell_type": "code",
   "execution_count": 18,
   "id": "0729ed6c-3e61-47ad-a74f-1d3131a10c87",
   "metadata": {},
   "outputs": [
    {
     "data": {
      "text/plain": [
       "{'hello', 'morning'}"
      ]
     },
     "execution_count": 18,
     "metadata": {},
     "output_type": "execute_result"
    }
   ],
   "source": [
    "#24- develop a code to prompts user to input two set of strings print the elments that are present first set but not in the second set.\n",
    "\n",
    "s={\"hello\",\"good\",\"morning\"}\n",
    "s1={\"bye\",\"good\",\"evening\"}\n",
    "s.difference(s1)\n"
   ]
  },
  {
   "cell_type": "code",
   "execution_count": 17,
   "id": "bc137c6c-52f0-454f-85e9-6268c635a355",
   "metadata": {},
   "outputs": [
    {
     "data": {
      "text/plain": [
       "{'bye', 'evening', 'good', 'happy', 'hello', 'morning'}"
      ]
     },
     "execution_count": 17,
     "metadata": {},
     "output_type": "execute_result"
    }
   ],
   "source": [
    "#26- write a code that prompts the user to input two set of characters.print the union of two set.\n",
    "\n",
    "s={\"hello\",\"good\",\"morning\"}\n",
    "s1={\"bye\",\"happy\",\"evening\"}\n",
    "s.union(s1)\n",
    "\n"
   ]
  },
  {
   "cell_type": "code",
   "execution_count": null,
   "id": "711d8440-d286-4515-8810-d20cb2242da2",
   "metadata": {},
   "outputs": [],
   "source": []
  }
 ],
 "metadata": {
  "kernelspec": {
   "display_name": "Python 3 (ipykernel)",
   "language": "python",
   "name": "python3"
  },
  "language_info": {
   "codemirror_mode": {
    "name": "ipython",
    "version": 3
   },
   "file_extension": ".py",
   "mimetype": "text/x-python",
   "name": "python",
   "nbconvert_exporter": "python",
   "pygments_lexer": "ipython3",
   "version": "3.10.8"
  }
 },
 "nbformat": 4,
 "nbformat_minor": 5
}
